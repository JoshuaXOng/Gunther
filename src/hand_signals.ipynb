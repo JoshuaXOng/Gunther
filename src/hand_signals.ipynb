{
  "nbformat": 4,
  "nbformat_minor": 0,
  "metadata": {
    "colab": {
      "name": "hand-signals.ipynb",
      "provenance": [],
      "collapsed_sections": [],
      "authorship_tag": "ABX9TyPLADbZ7/tNk6l1JiOQcM31",
      "include_colab_link": true
    },
    "kernelspec": {
      "name": "python3",
      "display_name": "Python 3"
    },
    "language_info": {
      "name": "python"
    },
    "accelerator": "GPU"
  },
  "cells": [
    {
      "cell_type": "markdown",
      "metadata": {
        "id": "view-in-github",
        "colab_type": "text"
      },
      "source": [
        "<a href=\"https://colab.research.google.com/github/JoshuaXOng/Gunther/blob/develop/src/hand_signals.ipynb\" target=\"_parent\"><img src=\"https://colab.research.google.com/assets/colab-badge.svg\" alt=\"Open In Colab\"/></a>"
      ]
    },
    {
      "cell_type": "code",
      "metadata": {
        "id": "71D1vooUhbiJ"
      },
      "source": [
        "\"\"\"\n",
        "I guess this file is for everything right now.\n",
        "\n",
        "Author: Joshua Ong   \n",
        "\"\"\"\n",
        "\n",
        "import os\n",
        "import torch\n",
        "from torch import nn, optim\n",
        "from torchvision import transforms\n",
        "from torch.utils.data import Dataset, DataLoader\n",
        "import numpy as np\n",
        "\n",
        "class HSCNN(nn.Module):\n",
        "    \"\"\" A CNN model for hand signs. \"\"\"\n",
        "    \n",
        "    def __init__(self):\n",
        "        super(HSCNN, self).__init__()\n",
        "        # Tests...\n",
        "        self.conv = nn.Conv2d(1, 1, 3, padding=1)\n",
        "        self.max_pool = nn.MaxPool2d(3)\n",
        "        self.fc_layer = nn.Linear(784, 24)\n",
        "\n",
        "    def forward(Self, data):\n",
        "        data = self.conv(data)\n",
        "        data = self.max_pool(data)\n",
        "        data = self.fc_layer(data)\n",
        "        return data\n",
        "\n",
        "class HSDataset(Dataset):\n",
        "    \"\"\" Implements Dataset. \n",
        "    A custom dataset for hand-signals data.\n",
        "    \"\"\"\n",
        "\n",
        "    def __init__(self, csv_file_path):\n",
        "        \"\"\" Constructor.\n",
        "        :param csv_file_path: the path to the csv file containing the dataset\n",
        "            data. The file contains a header row; and, labels are in column 1 \n",
        "            (1-indexing) and pixel data in the remaining columns up to 784.\n",
        "        \"\"\"\n",
        "        data = np.loadtxt(csv_file_path, delimiter=\",\", skiprows=1, dtype=np.int)\n",
        "        self.labels = data[:, 0]\n",
        "        self.pixel_values = data[:, 1:]\n",
        "\n",
        "    def __getitem__(self, index):\n",
        "        return self.labels[index], self.pixel_values[index]\n",
        "\n",
        "    def __len__(self):\n",
        "        return len(self.labels)"
      ],
      "execution_count": 39,
      "outputs": []
    },
    {
      "cell_type": "code",
      "metadata": {
        "id": "QKYCSZDntT9W"
      },
      "source": [
        "# Import dataset from local system \n",
        "# (relavant datasets are located in the data directory).\n",
        "from google.colab import files\n",
        "data = files.upload()\n",
        "data2 = files.upload()"
      ],
      "execution_count": null,
      "outputs": []
    },
    {
      "cell_type": "code",
      "metadata": {
        "id": "54xDtqTE2wPO"
      },
      "source": [
        "training_data = HSDataset(\"/content/sign_mnist_train.csv\")\n",
        "training_dataloader = DataLoader(training_data, batch_size=64, shuffle=True)\n",
        "\n",
        "testing_data = HSDataset(\"/content/sign_mnist_test.csv\")\n",
        "testing_dataloader = DataLoader(testing_data, batch_size=64, shuffle=True)"
      ],
      "execution_count": 40,
      "outputs": []
    },
    {
      "cell_type": "code",
      "metadata": {
        "id": "8-CzMJg6OkRe"
      },
      "source": [
        "class Trainer():\n",
        "\n",
        "    def __init__(self, no_epoch, model, training_loader, loss_fn, optimizer, device):\n",
        "        \n",
        "        self.no_epoch = no_epoch\n",
        "\n",
        "        self.model = model\n",
        "        self.training_loader = training_loader\n",
        "        self.loss_fn = loss_fn\n",
        "        self.optimizer = optimizer\n",
        "        self.device = device\n",
        "\n",
        "        self.training_losses = []\n",
        "        self.validation_losses = []\n",
        "        self.accuracies = []\n",
        "\n",
        "    def trainingDriver(self):\n",
        "\n",
        "        for epoch in range(self.no_epoch): \n",
        "            train_loss = self._train(self.model, self.training_loader, self.loss_fn, self.optimizer, self.device)  \n",
        "            training_losses.append(train_loss)\n",
        "            print(train_loss)\n",
        "\n",
        "    def _train(self, model, train_loader, loss_fn, optimizer, device):\n",
        "        \n",
        "        model.train()\n",
        "        \n",
        "        running_loss = 0\n",
        "        \n",
        "        for index, entry in enumerate(train_loader, 0): \n",
        "            \n",
        "            inputs, labels = entry\n",
        "            inputs, labels = inputs.to(device), labels.to(device)\n",
        "\n",
        "            optimizer.zero_grad() \n",
        "            outputs = model(inputs)\n",
        "            loss = loss_fn(outputs, labels)\n",
        "            loss.backward()\n",
        "            optimizer.step()\n",
        "\n",
        "            running_loss += loss.item() \n",
        "\n",
        "        return running_loss/len(train_loader)\n"
      ],
      "execution_count": 50,
      "outputs": []
    },
    {
      "cell_type": "code",
      "metadata": {
        "id": "jN4ar_obWaJK"
      },
      "source": [
        "import torchvision.models as models\n",
        "resnet18 = models.resnet18()\n",
        "device = torch.device(\"cuda:0\" if torch.cuda.is_available() else \"cpu\") \n",
        "resnet18.to(device)\n",
        "loss_fn = nn.CrossEntropyLoss()\n",
        "optimizer = optim.Adam(resnet18.parameters(), lr=0.001)\n",
        "test = Trainer(10, resnet18, training_dataloader, loss_fn, optimizer, device)\n",
        "test.trainingDriver()\n"
      ],
      "execution_count": null,
      "outputs": []
    }
  ]
}